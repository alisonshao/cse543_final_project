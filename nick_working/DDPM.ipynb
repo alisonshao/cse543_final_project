{
 "cells": [
  {
   "cell_type": "code",
   "execution_count": 4,
   "id": "6f9db5e7",
   "metadata": {},
   "outputs": [
    {
     "name": "stdout",
     "output_type": "stream",
     "text": [
      "Collecting diffusers\n",
      "  Obtaining dependency information for diffusers from https://files.pythonhosted.org/packages/e7/7a/f08f610cea8a3395ad3b4f586db23bedb43c68db6c3261145a15e7b63126/diffusers-0.33.1-py3-none-any.whl.metadata\n",
      "  Downloading diffusers-0.33.1-py3-none-any.whl.metadata (19 kB)\n",
      "Requirement already satisfied: importlib-metadata in c:\\users\\nicks\\anaconda3\\lib\\site-packages (from diffusers) (6.0.0)\n",
      "Requirement already satisfied: filelock in c:\\users\\nicks\\anaconda3\\lib\\site-packages (from diffusers) (3.9.0)\n",
      "Requirement already satisfied: huggingface-hub>=0.27.0 in c:\\users\\nicks\\anaconda3\\lib\\site-packages (from diffusers) (0.29.3)\n",
      "Requirement already satisfied: numpy in c:\\users\\nicks\\anaconda3\\lib\\site-packages (from diffusers) (1.24.3)\n",
      "Requirement already satisfied: regex!=2019.12.17 in c:\\users\\nicks\\anaconda3\\lib\\site-packages (from diffusers) (2022.7.9)\n",
      "Requirement already satisfied: requests in c:\\users\\nicks\\anaconda3\\lib\\site-packages (from diffusers) (2.31.0)\n",
      "Requirement already satisfied: safetensors>=0.3.1 in c:\\users\\nicks\\anaconda3\\lib\\site-packages (from diffusers) (0.5.3)\n",
      "Requirement already satisfied: Pillow in c:\\users\\nicks\\anaconda3\\lib\\site-packages (from diffusers) (10.2.0)\n",
      "Requirement already satisfied: fsspec>=2023.5.0 in c:\\users\\nicks\\anaconda3\\lib\\site-packages (from huggingface-hub>=0.27.0->diffusers) (2025.3.0)\n",
      "Requirement already satisfied: packaging>=20.9 in c:\\users\\nicks\\anaconda3\\lib\\site-packages (from huggingface-hub>=0.27.0->diffusers) (23.1)\n",
      "Requirement already satisfied: pyyaml>=5.1 in c:\\users\\nicks\\anaconda3\\lib\\site-packages (from huggingface-hub>=0.27.0->diffusers) (6.0)\n",
      "Requirement already satisfied: tqdm>=4.42.1 in c:\\users\\nicks\\anaconda3\\lib\\site-packages (from huggingface-hub>=0.27.0->diffusers) (4.65.0)\n",
      "Requirement already satisfied: typing-extensions>=3.7.4.3 in c:\\users\\nicks\\anaconda3\\lib\\site-packages (from huggingface-hub>=0.27.0->diffusers) (4.13.0)\n",
      "Requirement already satisfied: zipp>=0.5 in c:\\users\\nicks\\anaconda3\\lib\\site-packages (from importlib-metadata->diffusers) (3.11.0)\n",
      "Requirement already satisfied: charset-normalizer<4,>=2 in c:\\users\\nicks\\anaconda3\\lib\\site-packages (from requests->diffusers) (2.0.4)\n",
      "Requirement already satisfied: idna<4,>=2.5 in c:\\users\\nicks\\anaconda3\\lib\\site-packages (from requests->diffusers) (3.4)\n",
      "Requirement already satisfied: urllib3<3,>=1.21.1 in c:\\users\\nicks\\anaconda3\\lib\\site-packages (from requests->diffusers) (1.26.16)\n",
      "Requirement already satisfied: certifi>=2017.4.17 in c:\\users\\nicks\\anaconda3\\lib\\site-packages (from requests->diffusers) (2024.2.2)\n",
      "Requirement already satisfied: colorama in c:\\users\\nicks\\anaconda3\\lib\\site-packages (from tqdm>=4.42.1->huggingface-hub>=0.27.0->diffusers) (0.4.6)\n",
      "Downloading diffusers-0.33.1-py3-none-any.whl (3.6 MB)\n",
      "   ---------------------------------------- 0.0/3.6 MB ? eta -:--:--\n",
      "   ---------------------------------------- 0.0/3.6 MB 991.0 kB/s eta 0:00:04\n",
      "   -- ------------------------------------- 0.3/3.6 MB 3.2 MB/s eta 0:00:02\n",
      "   -------- ------------------------------- 0.7/3.6 MB 5.7 MB/s eta 0:00:01\n",
      "   ------------------------- -------------- 2.3/3.6 MB 13.2 MB/s eta 0:00:01\n",
      "   ---------------------------------------- 3.6/3.6 MB 17.5 MB/s eta 0:00:00\n",
      "Installing collected packages: diffusers\n",
      "Successfully installed diffusers-0.33.1\n"
     ]
    }
   ],
   "source": [
    "!pip install diffusers"
   ]
  },
  {
   "cell_type": "code",
   "execution_count": null,
   "id": "cdd4d573",
   "metadata": {},
   "outputs": [],
   "source": []
  },
  {
   "cell_type": "code",
   "execution_count": 5,
   "id": "8e1ba12c",
   "metadata": {},
   "outputs": [
    {
     "name": "stderr",
     "output_type": "stream",
     "text": [
      "C:\\Users\\NickS\\anaconda3\\Lib\\site-packages\\transformers\\utils\\generic.py:260: FutureWarning: `torch.utils._pytree._register_pytree_node` is deprecated. Please use `torch.utils._pytree.register_pytree_node` instead.\n",
      "  torch.utils._pytree._register_pytree_node(\n"
     ]
    },
    {
     "data": {
      "application/vnd.jupyter.widget-view+json": {
       "model_id": "8f3dcc8a6eec448aa385d086a9506553",
       "version_major": 2,
       "version_minor": 0
      },
      "text/plain": [
       "model_index.json:   0%|          | 0.00/180 [00:00<?, ?B/s]"
      ]
     },
     "metadata": {},
     "output_type": "display_data"
    },
    {
     "name": "stderr",
     "output_type": "stream",
     "text": [
      "C:\\Users\\NickS\\anaconda3\\Lib\\site-packages\\huggingface_hub\\file_download.py:142: UserWarning: `huggingface_hub` cache-system uses symlinks by default to efficiently store duplicated files but your machine does not support them in C:\\Users\\NickS\\.cache\\huggingface\\hub\\models--google--ddpm-cifar10-32. Caching files will still work but in a degraded version that might require more space on your disk. This warning can be disabled by setting the `HF_HUB_DISABLE_SYMLINKS_WARNING` environment variable. For more details, see https://huggingface.co/docs/huggingface_hub/how-to-cache#limitations.\n",
      "To support symlinks on Windows, you either need to activate Developer Mode or to run Python as an administrator. In order to activate developer mode, see this article: https://docs.microsoft.com/en-us/windows/apps/get-started/enable-your-device-for-development\n",
      "  warnings.warn(message)\n"
     ]
    },
    {
     "data": {
      "application/vnd.jupyter.widget-view+json": {
       "model_id": "32a0df9c3eb544d282ff39b004661eab",
       "version_major": 2,
       "version_minor": 0
      },
      "text/plain": [
       "Fetching 4 files:   0%|          | 0/4 [00:00<?, ?it/s]"
      ]
     },
     "metadata": {},
     "output_type": "display_data"
    },
    {
     "data": {
      "application/vnd.jupyter.widget-view+json": {
       "model_id": "7bf6be1af4f54886ad267c66c58806e7",
       "version_major": 2,
       "version_minor": 0
      },
      "text/plain": [
       "config.json:   0%|          | 0.00/699 [00:00<?, ?B/s]"
      ]
     },
     "metadata": {},
     "output_type": "display_data"
    },
    {
     "data": {
      "application/vnd.jupyter.widget-view+json": {
       "model_id": "769e8481fb614267a195ed206dc05bf1",
       "version_major": 2,
       "version_minor": 0
      },
      "text/plain": [
       "scheduler_config.json:   0%|          | 0.00/256 [00:00<?, ?B/s]"
      ]
     },
     "metadata": {},
     "output_type": "display_data"
    },
    {
     "data": {
      "application/vnd.jupyter.widget-view+json": {
       "model_id": "40608b4e8470404db647b8ad9ba39309",
       "version_major": 2,
       "version_minor": 0
      },
      "text/plain": [
       "diffusion_pytorch_model.bin:   0%|          | 0.00/143M [00:00<?, ?B/s]"
      ]
     },
     "metadata": {},
     "output_type": "display_data"
    },
    {
     "data": {
      "application/vnd.jupyter.widget-view+json": {
       "model_id": "8f901ffe8ab94bd68333ced98348ba13",
       "version_major": 2,
       "version_minor": 0
      },
      "text/plain": [
       "Loading pipeline components...:   0%|          | 0/2 [00:00<?, ?it/s]"
      ]
     },
     "metadata": {},
     "output_type": "display_data"
    },
    {
     "name": "stderr",
     "output_type": "stream",
     "text": [
      "An error occurred while trying to fetch C:\\Users\\NickS\\.cache\\huggingface\\hub\\models--google--ddpm-cifar10-32\\snapshots\\267b167dc01f0e4e61923ea244e8b988f84deb80: Error no file named diffusion_pytorch_model.safetensors found in directory C:\\Users\\NickS\\.cache\\huggingface\\hub\\models--google--ddpm-cifar10-32\\snapshots\\267b167dc01f0e4e61923ea244e8b988f84deb80.\n",
      "Defaulting to unsafe serialization. Pass `allow_pickle=False` to raise an error instead.\n"
     ]
    },
    {
     "ename": "TypeError",
     "evalue": "randn() received an invalid combination of arguments - got (tuple, generator=NoneType, dtype=torch.dtype, device=torch.device, layout=torch.layout), but expected one of:\n * (tuple of ints size, *, torch.Generator generator, tuple of names names, torch.dtype dtype = None, torch.layout layout = None, torch.device device = None, bool pin_memory = False, bool requires_grad = False)\n * (tuple of ints size, *, torch.Generator generator, Tensor out = None, torch.dtype dtype = None, torch.layout layout = None, torch.device device = None, bool pin_memory = False, bool requires_grad = False)\n * (tuple of ints size, *, Tensor out = None, torch.dtype dtype = None, torch.layout layout = None, torch.device device = None, bool pin_memory = False, bool requires_grad = False)\n * (tuple of ints size, *, tuple of names names, torch.dtype dtype = None, torch.layout layout = None, torch.device device = None, bool pin_memory = False, bool requires_grad = False)\n",
     "output_type": "error",
     "traceback": [
      "\u001b[1;31m---------------------------------------------------------------------------\u001b[0m",
      "\u001b[1;31mTypeError\u001b[0m                                 Traceback (most recent call last)",
      "Cell \u001b[1;32mIn[5], line 6\u001b[0m\n\u001b[0;32m      3\u001b[0m pipe \u001b[38;5;241m=\u001b[39m DiffusionPipeline\u001b[38;5;241m.\u001b[39mfrom_pretrained(\u001b[38;5;124m\"\u001b[39m\u001b[38;5;124mgoogle/ddpm-cifar10-32\u001b[39m\u001b[38;5;124m\"\u001b[39m)\n\u001b[0;32m      5\u001b[0m prompt \u001b[38;5;241m=\u001b[39m \u001b[38;5;124m\"\u001b[39m\u001b[38;5;124mAstronaut in a jungle, cold color palette, muted colors, detailed, 8k\u001b[39m\u001b[38;5;124m\"\u001b[39m\n\u001b[1;32m----> 6\u001b[0m image \u001b[38;5;241m=\u001b[39m pipe(prompt)\u001b[38;5;241m.\u001b[39mimages[\u001b[38;5;241m0\u001b[39m]\n",
      "File \u001b[1;32m~\\anaconda3\\Lib\\site-packages\\torch\\utils\\_contextlib.py:116\u001b[0m, in \u001b[0;36mcontext_decorator.<locals>.decorate_context\u001b[1;34m(*args, **kwargs)\u001b[0m\n\u001b[0;32m    113\u001b[0m \u001b[38;5;129m@functools\u001b[39m\u001b[38;5;241m.\u001b[39mwraps(func)\n\u001b[0;32m    114\u001b[0m \u001b[38;5;28;01mdef\u001b[39;00m \u001b[38;5;21mdecorate_context\u001b[39m(\u001b[38;5;241m*\u001b[39margs, \u001b[38;5;241m*\u001b[39m\u001b[38;5;241m*\u001b[39mkwargs):\n\u001b[0;32m    115\u001b[0m     \u001b[38;5;28;01mwith\u001b[39;00m ctx_factory():\n\u001b[1;32m--> 116\u001b[0m         \u001b[38;5;28;01mreturn\u001b[39;00m func(\u001b[38;5;241m*\u001b[39margs, \u001b[38;5;241m*\u001b[39m\u001b[38;5;241m*\u001b[39mkwargs)\n",
      "File \u001b[1;32m~\\anaconda3\\Lib\\site-packages\\diffusers\\pipelines\\ddpm\\pipeline_ddpm.py:118\u001b[0m, in \u001b[0;36mDDPMPipeline.__call__\u001b[1;34m(self, batch_size, generator, num_inference_steps, output_type, return_dict)\u001b[0m\n\u001b[0;32m    116\u001b[0m     image \u001b[38;5;241m=\u001b[39m image\u001b[38;5;241m.\u001b[39mto(\u001b[38;5;28mself\u001b[39m\u001b[38;5;241m.\u001b[39mdevice)\n\u001b[0;32m    117\u001b[0m \u001b[38;5;28;01melse\u001b[39;00m:\n\u001b[1;32m--> 118\u001b[0m     image \u001b[38;5;241m=\u001b[39m randn_tensor(image_shape, generator\u001b[38;5;241m=\u001b[39mgenerator, device\u001b[38;5;241m=\u001b[39m\u001b[38;5;28mself\u001b[39m\u001b[38;5;241m.\u001b[39mdevice, dtype\u001b[38;5;241m=\u001b[39m\u001b[38;5;28mself\u001b[39m\u001b[38;5;241m.\u001b[39munet\u001b[38;5;241m.\u001b[39mdtype)\n\u001b[0;32m    120\u001b[0m \u001b[38;5;66;03m# set step values\u001b[39;00m\n\u001b[0;32m    121\u001b[0m \u001b[38;5;28mself\u001b[39m\u001b[38;5;241m.\u001b[39mscheduler\u001b[38;5;241m.\u001b[39mset_timesteps(num_inference_steps)\n",
      "File \u001b[1;32m~\\anaconda3\\Lib\\site-packages\\diffusers\\utils\\torch_utils.py:81\u001b[0m, in \u001b[0;36mrandn_tensor\u001b[1;34m(shape, generator, device, dtype, layout)\u001b[0m\n\u001b[0;32m     79\u001b[0m     latents \u001b[38;5;241m=\u001b[39m torch\u001b[38;5;241m.\u001b[39mcat(latents, dim\u001b[38;5;241m=\u001b[39m\u001b[38;5;241m0\u001b[39m)\u001b[38;5;241m.\u001b[39mto(device)\n\u001b[0;32m     80\u001b[0m \u001b[38;5;28;01melse\u001b[39;00m:\n\u001b[1;32m---> 81\u001b[0m     latents \u001b[38;5;241m=\u001b[39m torch\u001b[38;5;241m.\u001b[39mrandn(shape, generator\u001b[38;5;241m=\u001b[39mgenerator, device\u001b[38;5;241m=\u001b[39mrand_device, dtype\u001b[38;5;241m=\u001b[39mdtype, layout\u001b[38;5;241m=\u001b[39mlayout)\u001b[38;5;241m.\u001b[39mto(device)\n\u001b[0;32m     83\u001b[0m \u001b[38;5;28;01mreturn\u001b[39;00m latents\n",
      "\u001b[1;31mTypeError\u001b[0m: randn() received an invalid combination of arguments - got (tuple, generator=NoneType, dtype=torch.dtype, device=torch.device, layout=torch.layout), but expected one of:\n * (tuple of ints size, *, torch.Generator generator, tuple of names names, torch.dtype dtype = None, torch.layout layout = None, torch.device device = None, bool pin_memory = False, bool requires_grad = False)\n * (tuple of ints size, *, torch.Generator generator, Tensor out = None, torch.dtype dtype = None, torch.layout layout = None, torch.device device = None, bool pin_memory = False, bool requires_grad = False)\n * (tuple of ints size, *, Tensor out = None, torch.dtype dtype = None, torch.layout layout = None, torch.device device = None, bool pin_memory = False, bool requires_grad = False)\n * (tuple of ints size, *, tuple of names names, torch.dtype dtype = None, torch.layout layout = None, torch.device device = None, bool pin_memory = False, bool requires_grad = False)\n"
     ]
    }
   ],
   "source": [
    "from diffusers import DiffusionPipeline\n",
    "\n",
    "pipe = DiffusionPipeline.from_pretrained(\"google/ddpm-cifar10-32\")\n",
    "\n",
    "prompt = \"Astronaut in a jungle, cold color palette, muted colors, detailed, 8k\"\n",
    "image = pipe(prompt).images[0]"
   ]
  },
  {
   "cell_type": "code",
   "execution_count": null,
   "id": "e357802f",
   "metadata": {},
   "outputs": [],
   "source": []
  }
 ],
 "metadata": {
  "kernelspec": {
   "display_name": "Python 3 (ipykernel)",
   "language": "python",
   "name": "python3"
  },
  "language_info": {
   "codemirror_mode": {
    "name": "ipython",
    "version": 3
   },
   "file_extension": ".py",
   "mimetype": "text/x-python",
   "name": "python",
   "nbconvert_exporter": "python",
   "pygments_lexer": "ipython3",
   "version": "3.11.5"
  }
 },
 "nbformat": 4,
 "nbformat_minor": 5
}
